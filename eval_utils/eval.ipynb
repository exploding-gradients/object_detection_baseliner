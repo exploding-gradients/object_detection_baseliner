{
 "cells": [
  {
   "cell_type": "markdown",
   "metadata": {},
   "source": [
    "Here is the logic:\n",
    "- Given two bags of labels(ground-truth and Model):\n",
    "    - we first go thru the bag of ground-truth.\n",
    "        - For every ground truth annotation we find atleast one annotation in the Model bag that has a IOu>some_threshold and more importantly has the same class label. If exists: TP += 1 else FN += 1\n",
    "        - We mark one annotations in the Model bag that got matched(if it did). Its possible multiple annotations from the Model bag match the ground-truth label. In that case, all annotations(from the Model bag) get marked as \"matched\".\n",
    "    - We go thru the ML bag:\n",
    "        - We skip the annotations that found matches in the ground-truth and for every unmatched annotation we do FP +=1."
   ]
  },
  {
   "cell_type": "code",
   "execution_count": 3,
   "metadata": {},
   "outputs": [],
   "source": [
    "product_mapper = open('/app/object_detection_baseliner/MS/product_mapping.json')"
   ]
  },
  {
   "cell_type": "code",
   "execution_count": null,
   "metadata": {},
   "outputs": [],
   "source": [
    "def compute_model_performance(gt_json, mdl_json, product_mapping_file):\n",
    "    \"\"\"\n",
    "    gt_json: a json with each jpeg file with its annotation. \n",
    "    mdl_json: a json with each jpeg file with mdl annotations. We assume gt_json was used to \n",
    "    generate mdl_json, so the ordering should match\n",
    "    \"\"\"\n",
    "    "
   ]
  }
 ],
 "metadata": {
  "kernelspec": {
   "display_name": "Python 3",
   "language": "python",
   "name": "python3"
  },
  "language_info": {
   "codemirror_mode": {
    "name": "ipython",
    "version": 3
   },
   "file_extension": ".py",
   "mimetype": "text/x-python",
   "name": "python",
   "nbconvert_exporter": "python",
   "pygments_lexer": "ipython3",
   "version": "3.5.2"
  }
 },
 "nbformat": 4,
 "nbformat_minor": 2
}
